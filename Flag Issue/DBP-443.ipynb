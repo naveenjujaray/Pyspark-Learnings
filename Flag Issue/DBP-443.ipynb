{
 "cells": [
  {
   "cell_type": "markdown",
   "metadata": {
    "application/vnd.databricks.v1+cell": {
     "cellMetadata": {
      "byteLimit": 2048000,
      "rowLimit": 10000
     },
     "inputWidgets": {},
     "nuid": "d9da23fa-8a2c-4a30-bede-0cca98825ca8",
     "showTitle": false,
     "title": ""
    }
   },
   "source": [
    "### Ticket DBP-443\n",
    "Contributors - *Akhila Godeshi, Chervirala Sai Pranathi, Naveen Jujaray*\n",
    "### Description\n",
    "\n",
    "1. Convert the flags column values to Y or N when it has the value as below. the Flags (0 - N, NO - N, and 1 - Y, Yes-Y)\n",
    "\n",
    "2. If it is blank then blank only. flags (INQ, PRO, ADM, CON, CAN, ENR, APP) and based on its date's column, the condition to be checked and fill the flags.\n",
    "\n",
    "3. No Special characters, Numerics, data shifts are allowed.\n",
    "\n",
    "It is applicable for the Below purposes.\n",
    "\n",
    "    EM Marketing\n",
    "\n",
    "    EM Search Vendor data\n",
    "\n",
    "    EM GO\n",
    "\n",
    "    EM Suppression\n",
    "\n",
    "    EM Scoring"
   ]
  },
  {
   "cell_type": "code",
   "execution_count": 0,
   "metadata": {
    "application/vnd.databricks.v1+cell": {
     "cellMetadata": {
      "byteLimit": 2048000,
      "rowLimit": 10000
     },
     "inputWidgets": {},
     "nuid": "fce299ca-c696-4d38-9678-75e08c1285fa",
     "showTitle": false,
     "title": ""
    }
   },
   "outputs": [
    {
     "output_type": "display_data",
     "data": {
      "text/html": [
       "<style scoped>\n",
       "  .table-result-container {\n",
       "    max-height: 300px;\n",
       "    overflow: auto;\n",
       "  }\n",
       "  table, th, td {\n",
       "    border: 1px solid black;\n",
       "    border-collapse: collapse;\n",
       "  }\n",
       "  th, td {\n",
       "    padding: 5px;\n",
       "  }\n",
       "  th {\n",
       "    text-align: left;\n",
       "  }\n",
       "</style><div class='table-result-container'><table class='table-result'><thead style='background-color: white'><tr><th>FLAG_PRO</th><th>DATE_PRO</th><th>FLAG_PUSH</th><th>DATE_PUSH</th><th>FLAG_INQ</th><th>DATE_INQ</th><th>FLAG_APP</th><th>DATE_APP</th><th>FLAG_ADM</th><th>DATE_ADM</th><th>FLAG_CON</th><th>DATE_CON</th><th>FLAG_ENR</th><th>DATE_ENR</th><th>FLAG_CANC</th><th>DATE_CANC</th><th>FLAG_INTERNATIONAL</th><th>DATE_INTERNATIONAL</th><th>FLAG_WAIT</th><th>DATE_WAIT</th><th>FLAG_DEFER</th><th>DATE_DEFER</th><th>FLAG_ETHNIC</th><th>DATE_ETHNIC</th></tr></thead><tbody><tr><td>1</td><td>05/12/2022</td><td>Jai Ballaya</td><td>01/25/2022</td><td>One</td><td>01/01/2023</td><td>No</td><td>01/02/2023</td><td>Y</td><td>01/03/2023</td><td>0</td><td>01/04/2023</td><td>No</td><td>01/05/2023</td><td>Y</td><td>01/06/2023</td><td>0</td><td></td><td>Y</td><td>01/06/2023</td><td>0</td><td></td><td>N</td><td>01/09/2023</td></tr><tr><td>0</td><td>05/12/2022</td><td>No</td><td></td><td></td><td>01/11/2023</td><td>Yes</td><td>01/12/2023</td><td>N</td><td>01/13/2023</td><td>1</td><td>01/14/2023</td><td>No</td><td>01/15/2023</td><td>Y</td><td>01/16/2023</td><td>0</td><td></td><td>N</td><td>01/06/2023</td><td>1</td><td>01/18/2023</td><td>No</td><td>01/19/2023</td></tr><tr><td>One</td><td>05/12/2022</td><td>Yes</td><td></td><td>No</td><td>01/21/2023</td><td>No</td><td>01/22/2023</td><td></td><td></td><td>Zero</td><td></td><td>No</td><td></td><td>yippie</td><td></td><td>0</td><td></td><td></td><td>01/06/2023</td><td></td><td>01/06/2023</td><td></td><td>01/06/2023</td></tr><tr><td>0</td><td>05/12/2022</td><td>Hurray</td><td>01/06/2023</td><td>Yes</td><td>01/23/2023</td><td>N</td><td>01/24/2023</td><td>1</td><td>01/25/2023</td><td>Yes</td><td>01/26/2023</td><td>N</td><td>01/27/2023</td><td>1</td><td>01/28/2023</td><td>No</td><td></td><td>Y</td><td></td><td>Yes</td><td></td><td></td><td></td></tr><tr><td>1</td><td>05/12/2022</td><td>Yes</td><td>01/06/2023</td><td>No</td><td>01/30/2023</td><td>Y</td><td>01/31/2023</td><td>Naruto</td><td></td><td>No</td><td></td><td>Y</td><td></td><td>0</td><td></td><td>Yes</td><td></td><td>N</td><td></td><td>1</td><td></td><td></td><td></td></tr></tbody></table></div>"
      ]
     },
     "metadata": {
      "application/vnd.databricks.v1+output": {
       "addedWidgets": {},
       "aggData": [],
       "aggError": "",
       "aggOverflow": false,
       "aggSchema": [],
       "aggSeriesLimitReached": false,
       "aggType": "",
       "arguments": {},
       "columnCustomDisplayInfos": {},
       "data": [
        [
         "1",
         "05/12/2022",
         "Jai Ballaya",
         "01/25/2022",
         "One",
         "01/01/2023",
         "No",
         "01/02/2023",
         "Y",
         "01/03/2023",
         "0",
         "01/04/2023",
         "No",
         "01/05/2023",
         "Y",
         "01/06/2023",
         "0",
         "",
         "Y",
         "01/06/2023",
         "0",
         "",
         "N",
         "01/09/2023"
        ],
        [
         "0",
         "05/12/2022",
         "No",
         "",
         "",
         "01/11/2023",
         "Yes",
         "01/12/2023",
         "N",
         "01/13/2023",
         "1",
         "01/14/2023",
         "No",
         "01/15/2023",
         "Y",
         "01/16/2023",
         "0",
         "",
         "N",
         "01/06/2023",
         "1",
         "01/18/2023",
         "No",
         "01/19/2023"
        ],
        [
         "One",
         "05/12/2022",
         "Yes",
         "",
         "No",
         "01/21/2023",
         "No",
         "01/22/2023",
         "",
         "",
         "Zero",
         "",
         "No",
         "",
         "yippie",
         "",
         "0",
         "",
         "",
         "01/06/2023",
         "",
         "01/06/2023",
         "",
         "01/06/2023"
        ],
        [
         "0",
         "05/12/2022",
         "Hurray",
         "01/06/2023",
         "Yes",
         "01/23/2023",
         "N",
         "01/24/2023",
         "1",
         "01/25/2023",
         "Yes",
         "01/26/2023",
         "N",
         "01/27/2023",
         "1",
         "01/28/2023",
         "No",
         "",
         "Y",
         "",
         "Yes",
         "",
         "",
         ""
        ],
        [
         "1",
         "05/12/2022",
         "Yes",
         "01/06/2023",
         "No",
         "01/30/2023",
         "Y",
         "01/31/2023",
         "Naruto",
         "",
         "No",
         "",
         "Y",
         "",
         "0",
         "",
         "Yes",
         "",
         "N",
         "",
         "1",
         "",
         "",
         ""
        ]
       ],
       "datasetInfos": [],
       "dbfsResultPath": null,
       "isJsonSchema": true,
       "metadata": {},
       "overflow": false,
       "plotOptions": {
        "customPlotOptions": {},
        "displayType": "table",
        "pivotAggregation": null,
        "pivotColumns": null,
        "xColumns": null,
        "yColumns": null
       },
       "removedWidgets": [],
       "schema": [
        {
         "metadata": "{}",
         "name": "FLAG_PRO",
         "type": "\"string\""
        },
        {
         "metadata": "{}",
         "name": "DATE_PRO",
         "type": "\"string\""
        },
        {
         "metadata": "{}",
         "name": "FLAG_PUSH",
         "type": "\"string\""
        },
        {
         "metadata": "{}",
         "name": "DATE_PUSH",
         "type": "\"string\""
        },
        {
         "metadata": "{}",
         "name": "FLAG_INQ",
         "type": "\"string\""
        },
        {
         "metadata": "{}",
         "name": "DATE_INQ",
         "type": "\"string\""
        },
        {
         "metadata": "{}",
         "name": "FLAG_APP",
         "type": "\"string\""
        },
        {
         "metadata": "{}",
         "name": "DATE_APP",
         "type": "\"string\""
        },
        {
         "metadata": "{}",
         "name": "FLAG_ADM",
         "type": "\"string\""
        },
        {
         "metadata": "{}",
         "name": "DATE_ADM",
         "type": "\"string\""
        },
        {
         "metadata": "{}",
         "name": "FLAG_CON",
         "type": "\"string\""
        },
        {
         "metadata": "{}",
         "name": "DATE_CON",
         "type": "\"string\""
        },
        {
         "metadata": "{}",
         "name": "FLAG_ENR",
         "type": "\"string\""
        },
        {
         "metadata": "{}",
         "name": "DATE_ENR",
         "type": "\"string\""
        },
        {
         "metadata": "{}",
         "name": "FLAG_CANC",
         "type": "\"string\""
        },
        {
         "metadata": "{}",
         "name": "DATE_CANC",
         "type": "\"string\""
        },
        {
         "metadata": "{}",
         "name": "FLAG_INTERNATIONAL",
         "type": "\"string\""
        },
        {
         "metadata": "{}",
         "name": "DATE_INTERNATIONAL",
         "type": "\"string\""
        },
        {
         "metadata": "{}",
         "name": "FLAG_WAIT",
         "type": "\"string\""
        },
        {
         "metadata": "{}",
         "name": "DATE_WAIT",
         "type": "\"string\""
        },
        {
         "metadata": "{}",
         "name": "FLAG_DEFER",
         "type": "\"string\""
        },
        {
         "metadata": "{}",
         "name": "DATE_DEFER",
         "type": "\"string\""
        },
        {
         "metadata": "{}",
         "name": "FLAG_ETHNIC",
         "type": "\"string\""
        },
        {
         "metadata": "{}",
         "name": "DATE_ETHNIC",
         "type": "\"string\""
        }
       ],
       "type": "table"
      }
     },
     "output_type": "display_data"
    }
   ],
   "source": [
    "from itertools import chain\n",
    "from pyspark.sql.types import StructType, StructField, StringType\n",
    "from pyspark.sql.functions import col, when\n",
    "from pyspark.sql import functions as F\n",
    "import warnings\n",
    "from datetime import datetime\n",
    "\n",
    "# Suppress warnings\n",
    "warnings.filterwarnings(\"ignore\")\n",
    "\n",
    "# Define the schema for the DataFrame\n",
    "schema = StructType([\n",
    "    StructField(\"FLAG_PRO\", StringType(), True),\n",
    "    StructField(\"DATE_PRO\", StringType(), True),\n",
    "    StructField(\"FLAG_PUSH\", StringType(), True),\n",
    "    StructField(\"DATE_PUSH\", StringType(), True),\n",
    "    StructField(\"FLAG_INQ\", StringType(), True),\n",
    "    StructField(\"DATE_INQ\", StringType(), True),\n",
    "    StructField(\"FLAG_APP\", StringType(), True),\n",
    "    StructField(\"DATE_APP\", StringType(), True),\n",
    "    StructField(\"FLAG_ADM\", StringType(), True),\n",
    "    StructField(\"DATE_ADM\", StringType(), True),\n",
    "    StructField(\"FLAG_CON\", StringType(), True),\n",
    "    StructField(\"DATE_CON\", StringType(), True),\n",
    "    StructField(\"FLAG_ENR\", StringType(), True),\n",
    "    StructField(\"DATE_ENR\", StringType(), True),\n",
    "    StructField(\"FLAG_CANC\", StringType(), True),\n",
    "    StructField(\"DATE_CANC\", StringType(), True),\n",
    "    StructField(\"FLAG_INTERNATIONAL\", StringType(), True),\n",
    "    StructField(\"DATE_INTERNATIONAL\", StringType(), True),\n",
    "    StructField(\"FLAG_WAIT\", StringType(), True),\n",
    "    StructField(\"DATE_WAIT\", StringType(), True),\n",
    "    StructField(\"FLAG_DEFER\", StringType(), True),\n",
    "    StructField(\"DATE_DEFER\", StringType(), True),   \n",
    "    StructField(\"FLAG_ETHNIC\", StringType(), True),\n",
    "    StructField(\"DATE_ETHNIC\", StringType(), True)    \n",
    "])\n",
    "\n",
    "# Define the data with random values\n",
    "data = [\n",
    "    (\"1\", \"05/12/2022\", \"Jai Ballaya\", \"01/25/2022\", \"One\", \"01/01/2023\", \"No\", \"01/02/2023\", \"Y\", \"01/03/2023\", \"0\", \"01/04/2023\", \"No\", \"01/05/2023\", \"Y\", \"01/06/2023\", \"0\", \"\", \"Y\", \"01/06/2023\", \"0\", \"\", \"N\", \"01/09/2023\"),\n",
    "    (\"0\", \"05/12/2022\", \"No\", \"\", \"\", \"01/11/2023\", \"Yes\", \"01/12/2023\", \"N\", \"01/13/2023\", \"1\", \"01/14/2023\", \"No\", \"01/15/2023\", \"Y\", \"01/16/2023\", \"0\", \"\", \"N\", \"01/06/2023\", \"1\", \"01/18/2023\", \"No\", \"01/19/2023\"),\n",
    "    (\"One\", \"05/12/2022\", \"Yes\", \"\", \"No\", \"01/21/2023\", \"No\", \"01/22/2023\", \"\", \"\", \"Zero\", \"\", \"No\", \"\", \"yippie\", \"\", \"0\", \"\", \"\", \"01/06/2023\", \"\", \"01/06/2023\", \"\", \"01/06/2023\"),\n",
    "    (\"0\", \"05/12/2022\", \"Hurray\", \"01/06/2023\", \"Yes\", \"01/23/2023\", \"N\", \"01/24/2023\", \"1\", \"01/25/2023\", \"Yes\", \"01/26/2023\", \"N\", \"01/27/2023\", \"1\", \"01/28/2023\", \"No\", \"\", \"Y\", \"\", \"Yes\", \"\", \"\", \"\"),\n",
    "    (\"1\", \"05/12/2022\", \"Yes\", \"01/06/2023\", \"No\", \"01/30/2023\", \"Y\", \"01/31/2023\", \"Naruto\", \"\", \"No\", \"\", \"Y\", \"\", \"0\", \"\", \"Yes\", \"\", \"N\", \"\", \"1\", \"\", \"\", \"\")\n",
    "]\n",
    "\n",
    "# Create the DataFrame\n",
    "df = spark.createDataFrame(data, schema)\n",
    "\n",
    "# Display the DataFrame\n",
    "df.display()"
   ]
  },
  {
   "cell_type": "code",
   "execution_count": 0,
   "metadata": {
    "application/vnd.databricks.v1+cell": {
     "cellMetadata": {
      "byteLimit": 2048000,
      "rowLimit": 10000
     },
     "inputWidgets": {},
     "nuid": "e28ea792-adc3-4e76-b927-2db0a3b977f5",
     "showTitle": false,
     "title": ""
    }
   },
   "outputs": [
    {
     "output_type": "display_data",
     "data": {
      "text/html": [
       "<style scoped>\n",
       "  .table-result-container {\n",
       "    max-height: 300px;\n",
       "    overflow: auto;\n",
       "  }\n",
       "  table, th, td {\n",
       "    border: 1px solid black;\n",
       "    border-collapse: collapse;\n",
       "  }\n",
       "  th, td {\n",
       "    padding: 5px;\n",
       "  }\n",
       "  th {\n",
       "    text-align: left;\n",
       "  }\n",
       "</style><div class='table-result-container'><table class='table-result'><thead style='background-color: white'><tr><th>FLAG_PRO</th><th>DATE_PRO</th><th>FLAG_PUSH</th><th>DATE_PUSH</th><th>FLAG_INQ</th><th>DATE_INQ</th><th>FLAG_APP</th><th>DATE_APP</th><th>FLAG_ADM</th><th>DATE_ADM</th><th>FLAG_CON</th><th>DATE_CON</th><th>FLAG_ENR</th><th>DATE_ENR</th><th>FLAG_CANC</th><th>DATE_CANC</th><th>FLAG_INTERNATIONAL</th><th>DATE_INTERNATIONAL</th><th>FLAG_WAIT</th><th>DATE_WAIT</th><th>FLAG_DEFER</th><th>DATE_DEFER</th><th>FLAG_ETHNIC</th><th>DATE_ETHNIC</th><th>FLAG_DENY</th></tr></thead><tbody><tr><td>Y</td><td>05/12/2022</td><td>Y</td><td>01/25/2022</td><td>Y</td><td>01/01/2023</td><td>Y</td><td>01/02/2023</td><td>Y</td><td>01/03/2023</td><td>Y</td><td>01/04/2023</td><td>Y</td><td>01/05/2023</td><td>Y</td><td>01/06/2023</td><td>N</td><td></td><td>Y</td><td>01/06/2023</td><td>N</td><td></td><td>Y</td><td>01/09/2023</td><td>null</td></tr><tr><td>Y</td><td>05/12/2022</td><td>N</td><td></td><td>Y</td><td>01/11/2023</td><td>Y</td><td>01/12/2023</td><td>Y</td><td>01/13/2023</td><td>Y</td><td>01/14/2023</td><td>Y</td><td>01/15/2023</td><td>Y</td><td>01/16/2023</td><td>N</td><td></td><td>Y</td><td>01/06/2023</td><td>Y</td><td>01/18/2023</td><td>Y</td><td>01/19/2023</td><td>null</td></tr><tr><td>Y</td><td>05/12/2022</td><td>Y</td><td></td><td>Y</td><td>01/21/2023</td><td>Y</td><td>01/22/2023</td><td>null</td><td></td><td>null</td><td></td><td>N</td><td></td><td>null</td><td></td><td>N</td><td></td><td>Y</td><td>01/06/2023</td><td>Y</td><td>01/06/2023</td><td>Y</td><td>01/06/2023</td><td>null</td></tr><tr><td>Y</td><td>05/12/2022</td><td>Y</td><td>01/06/2023</td><td>Y</td><td>01/23/2023</td><td>Y</td><td>01/24/2023</td><td>Y</td><td>01/25/2023</td><td>Y</td><td>01/26/2023</td><td>Y</td><td>01/27/2023</td><td>Y</td><td>01/28/2023</td><td>N</td><td></td><td>Y</td><td></td><td>Y</td><td></td><td>null</td><td></td><td>null</td></tr><tr><td>Y</td><td>05/12/2022</td><td>Y</td><td>01/06/2023</td><td>Y</td><td>01/30/2023</td><td>Y</td><td>01/31/2023</td><td>null</td><td></td><td>N</td><td></td><td>Y</td><td></td><td>N</td><td></td><td>Y</td><td></td><td>N</td><td></td><td>Y</td><td></td><td>null</td><td></td><td>null</td></tr></tbody></table></div>"
      ]
     },
     "metadata": {
      "application/vnd.databricks.v1+output": {
       "addedWidgets": {},
       "aggData": [],
       "aggError": "",
       "aggOverflow": false,
       "aggSchema": [],
       "aggSeriesLimitReached": false,
       "aggType": "",
       "arguments": {},
       "columnCustomDisplayInfos": {},
       "data": [
        [
         "Y",
         "05/12/2022",
         "Y",
         "01/25/2022",
         "Y",
         "01/01/2023",
         "Y",
         "01/02/2023",
         "Y",
         "01/03/2023",
         "Y",
         "01/04/2023",
         "Y",
         "01/05/2023",
         "Y",
         "01/06/2023",
         "N",
         "",
         "Y",
         "01/06/2023",
         "N",
         "",
         "Y",
         "01/09/2023",
         null
        ],
        [
         "Y",
         "05/12/2022",
         "N",
         "",
         "Y",
         "01/11/2023",
         "Y",
         "01/12/2023",
         "Y",
         "01/13/2023",
         "Y",
         "01/14/2023",
         "Y",
         "01/15/2023",
         "Y",
         "01/16/2023",
         "N",
         "",
         "Y",
         "01/06/2023",
         "Y",
         "01/18/2023",
         "Y",
         "01/19/2023",
         null
        ],
        [
         "Y",
         "05/12/2022",
         "Y",
         "",
         "Y",
         "01/21/2023",
         "Y",
         "01/22/2023",
         null,
         "",
         null,
         "",
         "N",
         "",
         null,
         "",
         "N",
         "",
         "Y",
         "01/06/2023",
         "Y",
         "01/06/2023",
         "Y",
         "01/06/2023",
         null
        ],
        [
         "Y",
         "05/12/2022",
         "Y",
         "01/06/2023",
         "Y",
         "01/23/2023",
         "Y",
         "01/24/2023",
         "Y",
         "01/25/2023",
         "Y",
         "01/26/2023",
         "Y",
         "01/27/2023",
         "Y",
         "01/28/2023",
         "N",
         "",
         "Y",
         "",
         "Y",
         "",
         null,
         "",
         null
        ],
        [
         "Y",
         "05/12/2022",
         "Y",
         "01/06/2023",
         "Y",
         "01/30/2023",
         "Y",
         "01/31/2023",
         null,
         "",
         "N",
         "",
         "Y",
         "",
         "N",
         "",
         "Y",
         "",
         "N",
         "",
         "Y",
         "",
         null,
         "",
         null
        ]
       ],
       "datasetInfos": [],
       "dbfsResultPath": null,
       "isJsonSchema": true,
       "metadata": {},
       "overflow": false,
       "plotOptions": {
        "customPlotOptions": {},
        "displayType": "table",
        "pivotAggregation": null,
        "pivotColumns": null,
        "xColumns": null,
        "yColumns": null
       },
       "removedWidgets": [],
       "schema": [
        {
         "metadata": "{}",
         "name": "FLAG_PRO",
         "type": "\"string\""
        },
        {
         "metadata": "{}",
         "name": "DATE_PRO",
         "type": "\"string\""
        },
        {
         "metadata": "{}",
         "name": "FLAG_PUSH",
         "type": "\"string\""
        },
        {
         "metadata": "{}",
         "name": "DATE_PUSH",
         "type": "\"string\""
        },
        {
         "metadata": "{}",
         "name": "FLAG_INQ",
         "type": "\"string\""
        },
        {
         "metadata": "{}",
         "name": "DATE_INQ",
         "type": "\"string\""
        },
        {
         "metadata": "{}",
         "name": "FLAG_APP",
         "type": "\"string\""
        },
        {
         "metadata": "{}",
         "name": "DATE_APP",
         "type": "\"string\""
        },
        {
         "metadata": "{}",
         "name": "FLAG_ADM",
         "type": "\"string\""
        },
        {
         "metadata": "{}",
         "name": "DATE_ADM",
         "type": "\"string\""
        },
        {
         "metadata": "{}",
         "name": "FLAG_CON",
         "type": "\"string\""
        },
        {
         "metadata": "{}",
         "name": "DATE_CON",
         "type": "\"string\""
        },
        {
         "metadata": "{}",
         "name": "FLAG_ENR",
         "type": "\"string\""
        },
        {
         "metadata": "{}",
         "name": "DATE_ENR",
         "type": "\"string\""
        },
        {
         "metadata": "{}",
         "name": "FLAG_CANC",
         "type": "\"string\""
        },
        {
         "metadata": "{}",
         "name": "DATE_CANC",
         "type": "\"string\""
        },
        {
         "metadata": "{}",
         "name": "FLAG_INTERNATIONAL",
         "type": "\"string\""
        },
        {
         "metadata": "{}",
         "name": "DATE_INTERNATIONAL",
         "type": "\"string\""
        },
        {
         "metadata": "{}",
         "name": "FLAG_WAIT",
         "type": "\"string\""
        },
        {
         "metadata": "{}",
         "name": "DATE_WAIT",
         "type": "\"string\""
        },
        {
         "metadata": "{}",
         "name": "FLAG_DEFER",
         "type": "\"string\""
        },
        {
         "metadata": "{}",
         "name": "DATE_DEFER",
         "type": "\"string\""
        },
        {
         "metadata": "{}",
         "name": "FLAG_ETHNIC",
         "type": "\"string\""
        },
        {
         "metadata": "{}",
         "name": "DATE_ETHNIC",
         "type": "\"string\""
        },
        {
         "metadata": "{}",
         "name": "FLAG_DENY",
         "type": "\"string\""
        }
       ],
       "type": "table"
      }
     },
     "output_type": "display_data"
    }
   ],
   "source": [
    "# Dictionary of required key mapping\n",
    "conversion_mapping = {\n",
    "    \"1\": \"Y\",\n",
    "    \"Yes\": \"Y\",\n",
    "    \"Y\": \"Y\",\n",
    "    \"0\": \"N\",\n",
    "    \"No\": \"N\",\n",
    "    \"N\": \"N\"\n",
    "}\n",
    "\n",
    "# Specific Columns to be selected for the ticket\n",
    "Flag_Columns = ['FLAG_PRO', 'FLAG_PUSH', 'FLAG_INQ', 'FLAG_APP', 'FLAG_ADM', 'FLAG_CON', 'FLAG_ENR', 'FLAG_CANC', 'FLAG_INTERNATIONAL', 'FLAG_WAIT', 'FLAG_DEFER', 'FLAG_DENY', 'FLAG_ETHNIC']\n",
    "\n",
    "# Loop through each column in Flag_Columns\n",
    "for column in Flag_Columns:\n",
    "    # Check if column exists in the DataFrame\n",
    "    if column in df.columns:\n",
    "        # Apply the mapping using when and otherwise functions\n",
    "        df = df.withColumn(column, when(col(column).isin(list(conversion_mapping.keys())), \\\n",
    "                                       F.create_map([F.lit(x) for x in chain(*conversion_mapping.items())]).getItem(col(column))) \\\n",
    "                                    .otherwise(None))\n",
    "    else:\n",
    "        # Create a new column with null values\n",
    "        df = df.withColumn(column, F.lit(None))\n",
    "### Made Flag Colums as Y if date is populated otherwise keep as it is\n",
    "DateColumns=[\"DATE_PRO\",\"DATE_PUSH\",\"DATE_INQ\",\"DATE_APP\",\"DATE_ADM\",\"DATE_CON\",\"DATE_ENR\",\"DATE_CANC\",\"DATE_DENY\",\"DATE_DEFER\",\"DATE_WAIT\",\"DATE_ETHNIC\"]\n",
    "\n",
    "# Iterate over the list of DateColumns\n",
    "for i in DateColumns:\n",
    "    # Check if the column 'i' is present in the DataFrame 'df'\n",
    "    if i in df.columns:\n",
    "        # Generate a new column name by prefixing \"FLAG_\" to the substring of 'i' starting from index 5\n",
    "        j = \"FLAG_\" + i[5:]\n",
    "        \n",
    "        # Update the DataFrame 'df' with a new column 'j' using the given conditions\n",
    "        df = df.withColumn(j, when((((col(i).isNotNull()) & (col(i) != \"\")) & ((col(j).isNull()) | (col(j) == \"N\") | (col(j) == \"\"))), \"Y\").otherwise(col(j)))\n",
    "        \n",
    "# Display the DataFrame 'df'\n",
    "df.display()"
   ]
  }
 ],
 "metadata": {
  "application/vnd.databricks.v1+notebook": {
   "dashboards": [],
   "language": "python",
   "notebookMetadata": {
    "pythonIndentUnit": 4
   },
   "notebookName": "DBP-443",
   "widgets": {}
  }
 },
 "nbformat": 4,
 "nbformat_minor": 0
}
